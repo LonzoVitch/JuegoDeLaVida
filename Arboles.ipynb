{
  "nbformat": 4,
  "nbformat_minor": 0,
  "metadata": {
    "colab": {
      "name": "Arboles.ipynb",
      "provenance": [],
      "authorship_tag": "ABX9TyPkNRh4lcENRXwJhOD3lj/M",
      "include_colab_link": true
    },
    "kernelspec": {
      "name": "python3",
      "display_name": "Python 3"
    },
    "language_info": {
      "name": "python"
    }
  },
  "cells": [
    {
      "cell_type": "markdown",
      "metadata": {
        "id": "view-in-github",
        "colab_type": "text"
      },
      "source": [
        "<a href=\"https://colab.research.google.com/github/LonzoVitch/JuegoDeLaVida/blob/main/Arboles.ipynb\" target=\"_parent\"><img src=\"https://colab.research.google.com/assets/colab-badge.svg\" alt=\"Open In Colab\"/></a>"
      ]
    },
    {
      "cell_type": "code",
      "metadata": {
        "id": "u1osn6Lh2zVy"
      },
      "source": [
        "class NodoBinario:\n",
        "  def __init__( self , value , left=None , right=None ):\n",
        "    self.data = value\n",
        "    self.left = left\n",
        "    self.right = right\n",
        "\n",
        "class NodoTernario:\n",
        "  def __init__( self , value , left=None , center=None , right=None ):\n",
        "    self.data= value\n",
        "    self.left = left\n",
        "    self.center = center\n",
        "    self.right = right"
      ],
      "execution_count": null,
      "outputs": []
    },
    {
      "cell_type": "code",
      "metadata": {
        "colab": {
          "base_uri": "https://localhost:8080/"
        },
        "id": "wf_DoNqbD7Zd",
        "outputId": "3130646a-3b1d-4e13-8313-a7acadcb9674"
      },
      "source": [
        "arbol1 = NodoBinario(\"R\", NodoBinario(\"C\"), NodoBinario(\"H\"))\n",
        "print(arbol1.right.data)\n",
        "\n",
        "arbol2 = NodoTernario(4,NodoTernario(3,NodoTernario(5,left=NodoTernario(2)),NodoTernario(5),NodoTernario(2)), None ,NodoTernario(5))\n",
        "print(arbol2.left.right.data)\n",
        "print(arbol2.data)\n",
        "print(arbol2.left.center.data)\n",
        "print(arbol2.left.left.left.data)\n",
        "print(arbol2.right.left)\n",
        "\n",
        "\n"
      ],
      "execution_count": null,
      "outputs": [
        {
          "output_type": "stream",
          "name": "stdout",
          "text": [
            "H\n",
            "2\n",
            "4\n",
            "5\n",
            "2\n",
            "None\n"
          ]
        }
      ]
    },
    {
      "cell_type": "code",
      "metadata": {
        "colab": {
          "base_uri": "https://localhost:8080/"
        },
        "id": "MLnXOROHHQsc",
        "outputId": "9e628a3d-5953-4248-bfdc-62fb5a43d3bb"
      },
      "source": [
        "root = NodoBinario(\"Santi\",None,NodoBinario(\"Jesus\",NodoBinario(\"Pedro\",None,NodoBinario(\"Pedro jr\"))))\n",
        "print(root.right.left.right.data)"
      ],
      "execution_count": null,
      "outputs": [
        {
          "output_type": "stream",
          "name": "stdout",
          "text": [
            "Pedro jr\n"
          ]
        }
      ]
    }
  ]
}