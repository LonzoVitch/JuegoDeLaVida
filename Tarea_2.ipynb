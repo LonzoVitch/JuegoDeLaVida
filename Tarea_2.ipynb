{
  "nbformat": 4,
  "nbformat_minor": 0,
  "metadata": {
    "colab": {
      "name": "Tarea 2 ",
      "provenance": [],
      "authorship_tag": "ABX9TyPIQYxIvD+xHnpgXwVtP50G",
      "include_colab_link": true
    },
    "kernelspec": {
      "name": "python3",
      "display_name": "Python 3"
    },
    "language_info": {
      "name": "python"
    }
  },
  "cells": [
    {
      "cell_type": "markdown",
      "metadata": {
        "id": "view-in-github",
        "colab_type": "text"
      },
      "source": [
        "<a href=\"https://colab.research.google.com/github/LonzoVitch/JuegoDeLaVida/blob/main/Tarea_2.ipynb\" target=\"_parent\"><img src=\"https://colab.research.google.com/assets/colab-badge.svg\" alt=\"Open In Colab\"/></a>"
      ]
    },
    {
      "cell_type": "markdown",
      "metadata": {
        "id": "dQf0G_tphu_c"
      },
      "source": [
        "Serie de Fibonacci."
      ]
    },
    {
      "cell_type": "code",
      "metadata": {
        "id": "5bRWTxlMi8Eu"
      },
      "source": [
        "x=0\n",
        "y=1\n",
        "z=0\n",
        "while True:\n",
        "  n=int(input(\"Dame un numero mayor a 1\"))\n",
        "  if n>1:\n",
        "    break\n",
        "print(\"1\",end=\" \")\n",
        "for i in range(0,n):\n",
        "  z=z+y\n",
        "  print(f\"{z}\",end=\" \")\n",
        "  x=y\n",
        "  y=z\n",
        "print(\"\")\n",
        "\n"
      ],
      "execution_count": null,
      "outputs": []
    },
    {
      "cell_type": "code",
      "metadata": {
        "id": "oCmZzbp3_n0o"
      },
      "source": [
        "def fib(n):\n",
        "  a = 0\n",
        "  b = 1\n",
        "\n",
        "  for k in range(n):\n",
        "    c = a+b\n",
        "    a = b\n",
        "    b = c\n",
        "\n",
        "  return b\n",
        "\n",
        "for x in range(10):\n",
        "  print(fib(x))"
      ],
      "execution_count": null,
      "outputs": []
    },
    {
      "cell_type": "code",
      "metadata": {
        "id": "2GSt3leaCWGj"
      },
      "source": [
        "def fib_r(n):\n",
        "  if n <2:\n",
        "    return n\n",
        "  return fib_r(n-1) + fib_r(n-2)\n",
        "\n",
        "for x in range(10):\n",
        " print(fib_r(x))"
      ],
      "execution_count": null,
      "outputs": []
    },
    {
      "cell_type": "markdown",
      "metadata": {
        "id": "dwvlDNfhi7Xi"
      },
      "source": [
        "Sumas de lista"
      ]
    },
    {
      "cell_type": "code",
      "metadata": {
        "colab": {
          "base_uri": "https://localhost:8080/"
        },
        "id": "s8_GmUbZi_ZC",
        "outputId": "cf996c50-ace2-4571-9e5b-222db969ba03"
      },
      "source": [
        "def sumar_lista(lista):\n",
        "  if len(lista) == 0:\n",
        "    return 0\n",
        "  if len(lista) == 1:\n",
        "    return lista[0]\n",
        "  else:\n",
        "    return lista[0] + sumar_lista(lista[1:])\n",
        "\n",
        "numeros = [1, 3, 3, 5, 8, 9]\n",
        "resultado = sumar_lista(numeros)\n",
        "print('La suma de los valores dados es igual a %i' % resultado)\n"
      ],
      "execution_count": null,
      "outputs": [
        {
          "output_type": "stream",
          "name": "stdout",
          "text": [
            "La suma de los valores dados es igual a 29\n"
          ]
        }
      ]
    },
    {
      "cell_type": "markdown",
      "metadata": {
        "id": "CBFoXUjPh9UN"
      },
      "source": [
        "Contador"
      ]
    },
    {
      "cell_type": "code",
      "metadata": {
        "id": "Hmg1WPMEhFtC"
      },
      "source": [
        "numero = 15\n",
        "for x in range(numero):\n",
        "  print(numero)\n",
        "  numero-=1\n",
        "  if(numero==0):\n",
        "    print(numero)\n",
        "    print(\"BOOOOOM\")\n"
      ],
      "execution_count": null,
      "outputs": []
    },
    {
      "cell_type": "code",
      "metadata": {
        "id": "KzyV2BQ2l2KQ"
      },
      "source": [
        "def contador( n ):\n",
        "  if n>=0:\n",
        "    print( n )\n",
        "    contador( n - 1)\n",
        "    if n == 0:\n",
        "      print('KAABOOM')"
      ],
      "execution_count": null,
      "outputs": []
    },
    {
      "cell_type": "code",
      "metadata": {
        "id": "Obur8PkCmHwq"
      },
      "source": [
        "contador( 8 )"
      ],
      "execution_count": null,
      "outputs": []
    },
    {
      "cell_type": "markdown",
      "metadata": {
        "id": "poKgntY4h2zD"
      },
      "source": [
        "Eliminar de una lista o arreglo"
      ]
    },
    {
      "cell_type": "code",
      "metadata": {
        "colab": {
          "base_uri": "https://localhost:8080/"
        },
        "id": "aFZXsaGiJHX4",
        "outputId": "205e3575-ea89-4752-b3e0-13cb33194d1f"
      },
      "source": [
        "list = [1, 2,3, 4, 5]\n",
        "if (len(list) % 2 == 1):\n",
        "  list.pop(len(list) // 2)\n",
        "\n",
        "print(list)"
      ],
      "execution_count": null,
      "outputs": [
        {
          "output_type": "stream",
          "name": "stdout",
          "text": [
            "[1, 2, 4, 5]\n"
          ]
        }
      ]
    },
    {
      "cell_type": "code",
      "metadata": {
        "colab": {
          "base_uri": "https://localhost:8080/"
        },
        "id": "8FRJrg3RJ2CI",
        "outputId": "fa927f61-98df-401a-8176-987467b0f995"
      },
      "source": [
        "list = [1, 2, 3, 4, 5, 6]\n",
        "if(len(list)% 2 == 0):\n",
        "  list.pop(len(list)// 2 - 2)\n",
        "\n",
        "  print(list)"
      ],
      "execution_count": null,
      "outputs": [
        {
          "output_type": "stream",
          "name": "stdout",
          "text": [
            "[1, 3, 4, 5, 6]\n"
          ]
        }
      ]
    }
  ]
}